{
 "cells": [
  {
   "cell_type": "markdown",
   "metadata": {},
   "source": [
    "# Raízes de Equações Transcendentais\n"
   ]
  },
  {
   "cell_type": "markdown",
   "metadata": {},
   "source": [
    "- Encontrar a raiz da função, significa: encontrar os valores para que f(x) seja igual a zero.\n",
    "- Gráficamente é encontrar o ponto em que a função cruza o eixo x\n",
    "![imagem](https://i.ibb.co/CvfN5d0/image.png)\n",
    "\n",
    "- A figura mostra o comportamento da função f(p) = 2^(1-p)-10^(-5)\n",
    "    - f(17) = 0.53*10^(-5)\n",
    "    - f(18) = -0.24*10^(-5)\n",
    "    - A raiz está estre 17 e 18\n",
    "    \n",
    "- Existem métodos que auxiliam em achar o zero da função:"
   ]
  },
  {
   "cell_type": "markdown",
   "metadata": {},
   "source": [
    "## Método da Bissecção\n",
    "\n",
    "- Seja f(x) uma função contínua no intervalo [a,b]. Se f(a)f(b) < 0, então f(x) tem pelo menos uma raiz em (a,b)\n",
    "\n",
    "__Passo a passo:__\n",
    "- Encontrar um intervalo [a,b]\n",
    "- Secciona o intervalo no seu ponto médio x = (a+b)/2\n",
    "- Se x for uma solução aceitável para o valor da raiz, pare\n",
    "- Senão, volte ao inicio para verificar se a raiz está em [a,x] ou em [x,b]. Redefina o intervalo [a,b] e volte ao passo 1\n",
    "- O critério de parada é o erro relativo:\n",
    "    - O algoritmo deve parar quando estimações sucessivas estão próximas o suficiente entre si. \n",
    "    - Seja X_(k+1) a estimativa do valor da raiz na iteração (k+1) e X_k a estimativa na iteração anterior (k)\n",
    "    - Er = abs (X_(k+1) - X_k / X(k+1)\n",
    "    - O algoritmo deve parar uma vez que x_(k+1) coincida em pelo menos p algarismos com x_k\n",
    "    - Er = abs (X_(k+1) - X_k / X(k+1) <= 10^(-p)\n",
    "    "
   ]
  },
  {
   "cell_type": "code",
   "execution_count": 1,
   "metadata": {
    "collapsed": true
   },
   "outputs": [],
   "source": [
    "def Bis(a,b,p,N): #Define a função bissecação\n",
    "    erro=1 #Erro começa com 1\n",
    "    cont=1 #Contador começando em 1\n",
    "    \n",
    "    #Enquando erro for maior que a precisão E\n",
    "    #cont for menor que o número maximo de iterações\n",
    "    \n",
    "    while erro > 10**(-p) and cont<N: \n",
    "        rn=(b+a)/2 #Raiz nova será (b+a)/2\n",
    "        #Se f(rn)*f(a) for menor que 0\n",
    "        #Existe raíz entre rn e a\n",
    "        if func(rn)*func(a)<0: \n",
    "            b=rn # b recebe o valor de rn\n",
    "            erro=abs(b-a)/abs(b) #calculo do erro\n",
    "        #Se não, existe raíz entre rn e b    \n",
    "        else:\n",
    "            a=rn #a recebe o valor de rn\n",
    "            erro=abs(a-b)/abs(a) #calculo do erro\n",
    "        \n",
    "        cont=cont+1 #incrementa o contador \n",
    "    \n",
    "    print(cont, rn) #mostra quantas iterações foram feitas\n",
    "    # e o valor mais próximo da raiz que mais aproxima a função de zero"
   ]
  },
  {
   "cell_type": "markdown",
   "metadata": {},
   "source": [
    "##### Exemplo:  \n",
    "Ache a raiz da função X^3-9X+3"
   ]
  },
  {
   "cell_type": "code",
   "execution_count": 3,
   "metadata": {
    "collapsed": true
   },
   "outputs": [],
   "source": [
    "def func(x): \n",
    "    return x**3-9*x+3 #Definindo a função do exemplo"
   ]
  },
  {
   "cell_type": "code",
   "execution_count": 4,
   "metadata": {
    "collapsed": false
   },
   "outputs": [
    {
     "name": "stdout",
     "output_type": "stream",
     "text": [
      "13 0.337646484375\n"
     ]
    }
   ],
   "source": [
    "#Chamando a função, a=0, b=1, p=10^-3, e N=50\n",
    "Bis(0,1,3,50) \n"
   ]
  },
  {
   "cell_type": "markdown",
   "metadata": {},
   "source": [
    "Após 13 iterações, o valor que deixa a função do exemplo mais perto de ser zero é 0.337646484375"
   ]
  },
  {
   "cell_type": "markdown",
   "metadata": {},
   "source": [
    "## Método da Newton\n",
    "\n",
    "- Conhecendo-se um valor x0 próximo à raiz, pode-se aproximar a função por uma reta tangente à f(x) em x0.\n",
    "\n",
    "__Passo a passo:__\n",
    "- Analisar a função para determinar um valor de x0 próximo a raiz\n",
    "- Encontrar a derivada de f(x)\n",
    "- Calcular estimativas consecutivas para a raiz usando a expressão: x_(k+1) = x_k - f(x_k)/f'(x_k)\n",
    "- Repetir o passo 3 até que se tenha obtido a precisão desejada\n",
    "\n",
    "    "
   ]
  },
  {
   "cell_type": "code",
   "execution_count": 5,
   "metadata": {
    "collapsed": true
   },
   "outputs": [],
   "source": [
    "def Newton(x0,p,N):\n",
    "    erro=1\n",
    "    ra=x0\n",
    "    cont=1\n",
    "    rn=ra\n",
    "    while erro > 10**(-p) and cont<N:\n",
    "        ra=rn\n",
    "        rn=ra-func(ra)/dfunc(ra)\n",
    "        cont=cont+1\n",
    "        erro=abs(rn-ra)/abs(rn)\n",
    "    \n",
    "    print(cont, rn)"
   ]
  },
  {
   "cell_type": "markdown",
   "metadata": {},
   "source": [
    "#### Exemplo\n",
    "\n",
    "Ache a raiz da função X^3-2X^2-3X+10"
   ]
  },
  {
   "cell_type": "code",
   "execution_count": 6,
   "metadata": {
    "collapsed": true
   },
   "outputs": [],
   "source": [
    "def func(x):\n",
    "    return x**3-2*x**2-3*x+10 #Função da equação do exemplo\n",
    "\n",
    "def dfunc(x):\n",
    "    return 3*x**2-4*x-3 #Função com a derivada da equação do exemplo\n",
    "\n"
   ]
  },
  {
   "cell_type": "code",
   "execution_count": 7,
   "metadata": {
    "collapsed": false
   },
   "outputs": [
    {
     "name": "stdout",
     "output_type": "stream",
     "text": [
      "19 -2.0000000001846723\n"
     ]
    }
   ],
   "source": [
    "Newton(1,3,50)"
   ]
  },
  {
   "cell_type": "markdown",
   "metadata": {},
   "source": [
    "Após 19 iterações, a o valor que mais aproxima a função do exemplo a zero é -2.0000000001846723"
   ]
  },
  {
   "cell_type": "markdown",
   "metadata": {},
   "source": [
    "## Método da Secante\n",
    "\n",
    "- Aproximar a derivada no ponto (x1, f(x1)) pelo coeficiente angular da reta secante que passa pelos pontos (x1,f(x1)) e (x0, f(x0)).\n",
    "\n",
    "__Passo a passo:__\n",
    "- Analisar a função para determinar dois valores, x0 e x1, próximos à raiz\n",
    "- Calcular estimativas consecutivas para a raiz usando a expressão: x_(k+1) = x_k-f(x_k)* (x_k-x_(k-1))/(f(x_k)-f(x_(k-1)))\n",
    "- Repetir o passo 2 até que se tenha obtido a precisão desejada"
   ]
  },
  {
   "cell_type": "code",
   "execution_count": 8,
   "metadata": {
    "collapsed": true
   },
   "outputs": [],
   "source": [
    "def Secante(x0,x1,p,N):\n",
    "    erro=1\n",
    "    ra1=x0\n",
    "    cont=1\n",
    "    rn=x1\n",
    "    while erro > 10**(-p) and cont<N:\n",
    "        ra2=ra1\n",
    "        ra1=rn\n",
    "        rn=ra1-func(ra1)*(ra2-ra1)/(func(ra2)-func(ra1))\n",
    "        cont=cont+1\n",
    "        erro=abs(rn-ra1)/abs(rn)\n",
    "    \n",
    "    print(cont, rn)"
   ]
  },
  {
   "cell_type": "markdown",
   "metadata": {},
   "source": [
    "#### Exemplo\n",
    "\n",
    "Ache a raiz da função X^3-2X^2-3X+10"
   ]
  },
  {
   "cell_type": "code",
   "execution_count": 9,
   "metadata": {
    "collapsed": false
   },
   "outputs": [
    {
     "name": "stdout",
     "output_type": "stream",
     "text": [
      "3 -2.0\n"
     ]
    }
   ],
   "source": [
    "Secante(1,3,3,50)"
   ]
  },
  {
   "cell_type": "markdown",
   "metadata": {},
   "source": [
    "Após 3 iterações, o valor mais próximo de zerar a função foi -2.0"
   ]
  }
 ],
 "metadata": {
  "kernelspec": {
   "display_name": "Python 3",
   "language": "python",
   "name": "python3"
  },
  "language_info": {
   "codemirror_mode": {
    "name": "ipython",
    "version": 3
   },
   "file_extension": ".py",
   "mimetype": "text/x-python",
   "name": "python",
   "nbconvert_exporter": "python",
   "pygments_lexer": "ipython3",
   "version": "3.4.5"
  }
 },
 "nbformat": 4,
 "nbformat_minor": 2
}
